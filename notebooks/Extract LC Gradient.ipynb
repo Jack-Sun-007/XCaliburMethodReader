{
 "cells": [
  {
   "cell_type": "code",
   "execution_count": 102,
   "metadata": {},
   "outputs": [],
   "source": [
    "import olefile\n",
    "import xmltodict\n",
    "import pandas as pd\n",
    "import matplotlib.pyplot as plt\n",
    "import numpy as np\n",
    "%matplotlib inline"
   ]
  },
  {
   "cell_type": "markdown",
   "metadata": {},
   "source": [
    "## Read Methods File"
   ]
  },
  {
   "cell_type": "code",
   "execution_count": 4,
   "metadata": {},
   "outputs": [
    {
     "name": "stdout",
     "output_type": "stream",
     "text": [
      "/c/Users/delgrosso/PycharmProjects/XCaliburMethodReader/notebooks\n"
     ]
    }
   ],
   "source": [
    "!pwd"
   ]
  },
  {
   "cell_type": "code",
   "execution_count": 5,
   "metadata": {},
   "outputs": [
    {
     "data": {
      "text/plain": [
       "<olefile.olefile.OleFileIO at 0x24f5414eeb8>"
      ]
     },
     "execution_count": 5,
     "metadata": {},
     "output_type": "execute_result"
    }
   ],
   "source": [
    "meth_file = olefile.OleFileIO('../data/test.meth')\n",
    "meth_file"
   ]
  },
  {
   "cell_type": "code",
   "execution_count": 6,
   "metadata": {},
   "outputs": [
    {
     "data": {
      "text/plain": [
       "[['AuditData'],\n",
       " ['LCQ Header'],\n",
       " ['Proxeon_EASY-nLC', 'Data'],\n",
       " ['Proxeon_EASY-nLC', 'Text'],\n",
       " ['Thermo Exactive', 'Data'],\n",
       " ['Thermo Exactive', 'Text']]"
      ]
     },
     "execution_count": 6,
     "metadata": {},
     "output_type": "execute_result"
    }
   ],
   "source": [
    "meth_file.listdir()"
   ]
  },
  {
   "cell_type": "code",
   "execution_count": 18,
   "metadata": {},
   "outputs": [
    {
     "name": "stdout",
     "output_type": "stream",
     "text": [
      "Sample pickup:\n",
      "Volume [µl]         :     2.50\n",
      "Flow [µl / min]     :    10.00\n",
      "\n",
      "Sample loading:\n",
      "Volume [µl]         :     5.00\n",
      "Flow [µl / min]     : (unspecified)\n",
      "Max. pressure [Bar] :   950.00\n",
      "\n",
      "Gradient:\n",
      "   Time [mm:ss]   Duration [mm:ss]   Flow [nl/min]   Mixture [%B]\n",
      "         00:00              00:00             300              5\n",
      "         95:00              95:00             300             30\n",
      "         100:00              05:00             300             60\n",
      "         105:00              05:00             300             95\n",
      "         110:00              05:00             300             95\n",
      "         115:00              05:00             300              5\n",
      "         120:00              05:00             300              5\n",
      "\n",
      "Pre-column equilibration:\n",
      "Volume [µl]         :     0.00\n",
      "Flow [µl / min]     : (unspecified)\n",
      "Max. pressure [Bar] : (unspecified)\n",
      "\n",
      "Analytical column equilibration:\n",
      "Volume [µl]         :     4.00\n",
      "Flow [µl / min]     : (unspecified)\n",
      "Max. pressure [Bar] :   950.00\n",
      "\n",
      "Autosampler wash:\n",
      "   Step    Bottle      Volume [µl]   Cycles\n",
      "       1   1                20.00         2\n",
      "       2   3                20.00         2\n",
      "\n"
     ]
    }
   ],
   "source": [
    "print(meth_file.openstream(['Proxeon_EASY-nLC', 'Text']).read().decode('utf-16'))"
   ]
  },
  {
   "cell_type": "markdown",
   "metadata": {},
   "source": [
    "## Extract LC Data"
   ]
  },
  {
   "cell_type": "code",
   "execution_count": 12,
   "metadata": {},
   "outputs": [
    {
     "data": {
      "text/plain": [
       "'<?xml version=\"1.0\" encoding=\"UTF-8\"?>\\r\\n<method><owner>Thermo</owner><name>XCalibur Method</name><description>XCalibur Method</description><sampleLoadingFlow>10</sampleLoadingFlow><sampleLoadingVolume>2.5</sampleLoadingVolume><desaltingFlow>Not set</desaltingFlow><desaltingVolume>5</desaltingVolume><desaltingMaxPressure>950</desaltingMaxPressure><reEquilibrationPreColumnFlow>Not set</reEquilibrationPreColumnFlow><reEquilibrationPreColumnVolume>0</reEquilibrationPreColumnVolume><reEquilibrationPreColumnMaxPressure>Not set</reEquilibrationPreColumnMaxPressure><reEquilibrationAnalyticalColumnFlow>Not set</reEquilibrationAnalyticalColumnFlow><reEquilibrationAnalyticalColumnVolume>4</reEquilibrationAnalyticalColumnVolume><reEquilibrationAnalyticalColumnMaxPressure>950</reEquilibrationAnalyticalColumnMaxPressure><washFlushVolume>Not set</washFlushVolume><isWashCyclesEnabled>true</isWashCyclesEnabled><washcycles><methodwashcycle><order>0</order><source>1</source><volume>20</volume><cycles>2</cycles></methodwashcycle><methodwashcycle><order>1</order><source>3</source><volume>20</volume><cycles>2</cycles></methodwashcycle></washcycles><gradients><methodgradient><order>0</order><duration>0</duration><flow>300</flow><percentB>5</percentB></methodgradient><methodgradient><order>1</order><duration>5700</duration><flow>300</flow><percentB>30</percentB></methodgradient><methodgradient><order>2</order><duration>300</duration><flow>300</flow><percentB>60</percentB></methodgradient><methodgradient><order>3</order><duration>300</duration><flow>300</flow><percentB>95</percentB></methodgradient><methodgradient><order>4</order><duration>300</duration><flow>300</flow><percentB>95</percentB></methodgradient><methodgradient><order>5</order><duration>300</duration><flow>300</flow><percentB>5</percentB></methodgradient><methodgradient><order>6</order><duration>300</duration><flow>300</flow><percentB>5</percentB></methodgradient></gradients><extensions/></method>\\r\\n'"
      ]
     },
     "execution_count": 12,
     "metadata": {},
     "output_type": "execute_result"
    }
   ],
   "source": [
    "lc_stream = [name for name in meth_file.listdir() if len(name) == 2 and 'LC' in name[0] and 'Data' in name[1]]\n",
    "assert len(lc_stream) == 1\n",
    "lc_stream = lc_stream[0]\n",
    "lc_data = meth_file.openstream(lc_stream).read().decode('utf-8')\n",
    "lc_data = lc_data[lc_data.index('<?xml'):]\n",
    "lc_data"
   ]
  },
  {
   "cell_type": "markdown",
   "metadata": {},
   "source": [
    "## Convert to a Python Dict"
   ]
  },
  {
   "cell_type": "code",
   "execution_count": 23,
   "metadata": {},
   "outputs": [
    {
     "data": {
      "text/plain": [
       "OrderedDict([('owner', 'Thermo'),\n",
       "             ('name', 'XCalibur Method'),\n",
       "             ('description', 'XCalibur Method'),\n",
       "             ('sampleLoadingFlow', '10'),\n",
       "             ('sampleLoadingVolume', '2.5'),\n",
       "             ('desaltingFlow', 'Not set'),\n",
       "             ('desaltingVolume', '5'),\n",
       "             ('desaltingMaxPressure', '950'),\n",
       "             ('reEquilibrationPreColumnFlow', 'Not set'),\n",
       "             ('reEquilibrationPreColumnVolume', '0'),\n",
       "             ('reEquilibrationPreColumnMaxPressure', 'Not set'),\n",
       "             ('reEquilibrationAnalyticalColumnFlow', 'Not set'),\n",
       "             ('reEquilibrationAnalyticalColumnVolume', '4'),\n",
       "             ('reEquilibrationAnalyticalColumnMaxPressure', '950'),\n",
       "             ('washFlushVolume', 'Not set'),\n",
       "             ('isWashCyclesEnabled', 'true'),\n",
       "             ('washcycles',\n",
       "              OrderedDict([('methodwashcycle',\n",
       "                            [OrderedDict([('order', '0'),\n",
       "                                          ('source', '1'),\n",
       "                                          ('volume', '20'),\n",
       "                                          ('cycles', '2')]),\n",
       "                             OrderedDict([('order', '1'),\n",
       "                                          ('source', '3'),\n",
       "                                          ('volume', '20'),\n",
       "                                          ('cycles', '2')])])])),\n",
       "             ('gradients',\n",
       "              OrderedDict([('methodgradient',\n",
       "                            [OrderedDict([('order', '0'),\n",
       "                                          ('duration', '0'),\n",
       "                                          ('flow', '300'),\n",
       "                                          ('percentB', '5')]),\n",
       "                             OrderedDict([('order', '1'),\n",
       "                                          ('duration', '5700'),\n",
       "                                          ('flow', '300'),\n",
       "                                          ('percentB', '30')]),\n",
       "                             OrderedDict([('order', '2'),\n",
       "                                          ('duration', '300'),\n",
       "                                          ('flow', '300'),\n",
       "                                          ('percentB', '60')]),\n",
       "                             OrderedDict([('order', '3'),\n",
       "                                          ('duration', '300'),\n",
       "                                          ('flow', '300'),\n",
       "                                          ('percentB', '95')]),\n",
       "                             OrderedDict([('order', '4'),\n",
       "                                          ('duration', '300'),\n",
       "                                          ('flow', '300'),\n",
       "                                          ('percentB', '95')]),\n",
       "                             OrderedDict([('order', '5'),\n",
       "                                          ('duration', '300'),\n",
       "                                          ('flow', '300'),\n",
       "                                          ('percentB', '5')]),\n",
       "                             OrderedDict([('order', '6'),\n",
       "                                          ('duration', '300'),\n",
       "                                          ('flow', '300'),\n",
       "                                          ('percentB', '5')])])])),\n",
       "             ('extensions', None)])"
      ]
     },
     "execution_count": 23,
     "metadata": {},
     "output_type": "execute_result"
    }
   ],
   "source": [
    "lc = xmltodict.parse(lc_data)\n",
    "lc"
   ]
  },
  {
   "cell_type": "markdown",
   "metadata": {},
   "source": [
    "## Calculate Gradient"
   ]
  },
  {
   "cell_type": "code",
   "execution_count": 57,
   "metadata": {},
   "outputs": [
    {
     "data": {
      "text/html": [
       "<div>\n",
       "<style scoped>\n",
       "    .dataframe tbody tr th:only-of-type {\n",
       "        vertical-align: middle;\n",
       "    }\n",
       "\n",
       "    .dataframe tbody tr th {\n",
       "        vertical-align: top;\n",
       "    }\n",
       "\n",
       "    .dataframe thead th {\n",
       "        text-align: right;\n",
       "    }\n",
       "</style>\n",
       "<table border=\"1\" class=\"dataframe\">\n",
       "  <thead>\n",
       "    <tr style=\"text-align: right;\">\n",
       "      <th></th>\n",
       "      <th>duration</th>\n",
       "      <th>flow</th>\n",
       "      <th>percentB</th>\n",
       "    </tr>\n",
       "    <tr>\n",
       "      <th>order</th>\n",
       "      <th></th>\n",
       "      <th></th>\n",
       "      <th></th>\n",
       "    </tr>\n",
       "  </thead>\n",
       "  <tbody>\n",
       "    <tr>\n",
       "      <th>0</th>\n",
       "      <td>0</td>\n",
       "      <td>300</td>\n",
       "      <td>5</td>\n",
       "    </tr>\n",
       "    <tr>\n",
       "      <th>1</th>\n",
       "      <td>5700</td>\n",
       "      <td>300</td>\n",
       "      <td>30</td>\n",
       "    </tr>\n",
       "    <tr>\n",
       "      <th>2</th>\n",
       "      <td>300</td>\n",
       "      <td>300</td>\n",
       "      <td>60</td>\n",
       "    </tr>\n",
       "    <tr>\n",
       "      <th>3</th>\n",
       "      <td>300</td>\n",
       "      <td>300</td>\n",
       "      <td>95</td>\n",
       "    </tr>\n",
       "    <tr>\n",
       "      <th>4</th>\n",
       "      <td>300</td>\n",
       "      <td>300</td>\n",
       "      <td>95</td>\n",
       "    </tr>\n",
       "    <tr>\n",
       "      <th>5</th>\n",
       "      <td>300</td>\n",
       "      <td>300</td>\n",
       "      <td>5</td>\n",
       "    </tr>\n",
       "    <tr>\n",
       "      <th>6</th>\n",
       "      <td>300</td>\n",
       "      <td>300</td>\n",
       "      <td>5</td>\n",
       "    </tr>\n",
       "  </tbody>\n",
       "</table>\n",
       "</div>"
      ],
      "text/plain": [
       "       duration  flow  percentB\n",
       "order                          \n",
       "0             0   300         5\n",
       "1          5700   300        30\n",
       "2           300   300        60\n",
       "3           300   300        95\n",
       "4           300   300        95\n",
       "5           300   300         5\n",
       "6           300   300         5"
      ]
     },
     "execution_count": 57,
     "metadata": {},
     "output_type": "execute_result"
    }
   ],
   "source": [
    "gradient = pd.DataFrame(lc['gradients']['methodgradient'])\n",
    "gradient = gradient.astype(int)\n",
    "gradient.set_index('order', inplace=True)\n",
    "gradient"
   ]
  },
  {
   "cell_type": "code",
   "execution_count": 58,
   "metadata": {},
   "outputs": [
    {
     "data": {
      "text/html": [
       "<div>\n",
       "<style scoped>\n",
       "    .dataframe tbody tr th:only-of-type {\n",
       "        vertical-align: middle;\n",
       "    }\n",
       "\n",
       "    .dataframe tbody tr th {\n",
       "        vertical-align: top;\n",
       "    }\n",
       "\n",
       "    .dataframe thead th {\n",
       "        text-align: right;\n",
       "    }\n",
       "</style>\n",
       "<table border=\"1\" class=\"dataframe\">\n",
       "  <thead>\n",
       "    <tr style=\"text-align: right;\">\n",
       "      <th></th>\n",
       "      <th>duration</th>\n",
       "      <th>flow</th>\n",
       "      <th>percentB</th>\n",
       "      <th>time</th>\n",
       "      <th>time (min)</th>\n",
       "    </tr>\n",
       "    <tr>\n",
       "      <th>order</th>\n",
       "      <th></th>\n",
       "      <th></th>\n",
       "      <th></th>\n",
       "      <th></th>\n",
       "      <th></th>\n",
       "    </tr>\n",
       "  </thead>\n",
       "  <tbody>\n",
       "    <tr>\n",
       "      <th>0</th>\n",
       "      <td>0</td>\n",
       "      <td>300</td>\n",
       "      <td>5</td>\n",
       "      <td>0</td>\n",
       "      <td>0.0</td>\n",
       "    </tr>\n",
       "    <tr>\n",
       "      <th>1</th>\n",
       "      <td>5700</td>\n",
       "      <td>300</td>\n",
       "      <td>30</td>\n",
       "      <td>5700</td>\n",
       "      <td>95.0</td>\n",
       "    </tr>\n",
       "    <tr>\n",
       "      <th>2</th>\n",
       "      <td>300</td>\n",
       "      <td>300</td>\n",
       "      <td>60</td>\n",
       "      <td>6000</td>\n",
       "      <td>100.0</td>\n",
       "    </tr>\n",
       "    <tr>\n",
       "      <th>3</th>\n",
       "      <td>300</td>\n",
       "      <td>300</td>\n",
       "      <td>95</td>\n",
       "      <td>6300</td>\n",
       "      <td>105.0</td>\n",
       "    </tr>\n",
       "    <tr>\n",
       "      <th>4</th>\n",
       "      <td>300</td>\n",
       "      <td>300</td>\n",
       "      <td>95</td>\n",
       "      <td>6600</td>\n",
       "      <td>110.0</td>\n",
       "    </tr>\n",
       "    <tr>\n",
       "      <th>5</th>\n",
       "      <td>300</td>\n",
       "      <td>300</td>\n",
       "      <td>5</td>\n",
       "      <td>6900</td>\n",
       "      <td>115.0</td>\n",
       "    </tr>\n",
       "    <tr>\n",
       "      <th>6</th>\n",
       "      <td>300</td>\n",
       "      <td>300</td>\n",
       "      <td>5</td>\n",
       "      <td>7200</td>\n",
       "      <td>120.0</td>\n",
       "    </tr>\n",
       "  </tbody>\n",
       "</table>\n",
       "</div>"
      ],
      "text/plain": [
       "       duration  flow  percentB  time  time (min)\n",
       "order                                            \n",
       "0             0   300         5     0         0.0\n",
       "1          5700   300        30  5700        95.0\n",
       "2           300   300        60  6000       100.0\n",
       "3           300   300        95  6300       105.0\n",
       "4           300   300        95  6600       110.0\n",
       "5           300   300         5  6900       115.0\n",
       "6           300   300         5  7200       120.0"
      ]
     },
     "execution_count": 58,
     "metadata": {},
     "output_type": "execute_result"
    }
   ],
   "source": [
    "gradient['time'] = gradient['duration'].cumsum()\n",
    "gradient['time (min)'] = gradient['time'] / 60\n",
    "gradient"
   ]
  },
  {
   "cell_type": "code",
   "execution_count": 59,
   "metadata": {},
   "outputs": [
    {
     "data": {
      "image/png": "[encoded data removed]",
      "text/plain": [
       "<Figure size 432x288 with 1 Axes>"
      ]
     },
     "metadata": {
      "needs_background": "light"
     },
     "output_type": "display_data"
    }
   ],
   "source": [
    "gradient.plot.line(x='time (min)', y='percentB', ylim=[0, 100], legend=False);\n",
    "plt.ylabel('Percent B');"
   ]
  },
  {
   "cell_type": "markdown",
   "metadata": {},
   "source": [
    "## Make Table of Other LC Settings (Volume, Flow Rate, and Max Pressure for each stage)"
   ]
  },
  {
   "cell_type": "code",
   "execution_count": 67,
   "metadata": {},
   "outputs": [
    {
     "data": {
      "text/plain": [
       "{'sampleLoadingFlow': '10',\n",
       " 'sampleLoadingVolume': '2.5',\n",
       " 'desaltingFlow': 'Not set',\n",
       " 'desaltingVolume': '5',\n",
       " 'desaltingMaxPressure': '950',\n",
       " 'reEquilibrationPreColumnFlow': 'Not set',\n",
       " 'reEquilibrationPreColumnVolume': '0',\n",
       " 'reEquilibrationPreColumnMaxPressure': 'Not set',\n",
       " 'reEquilibrationAnalyticalColumnFlow': 'Not set',\n",
       " 'reEquilibrationAnalyticalColumnVolume': '4',\n",
       " 'reEquilibrationAnalyticalColumnMaxPressure': '950'}"
      ]
     },
     "execution_count": 67,
     "metadata": {},
     "output_type": "execute_result"
    }
   ],
   "source": [
    "lcp = {key: val for key, val in lc.items() if not 'wash' in key and any(['Flow' in key, 'Volume' in key, 'MaxPressure' in key])}\n",
    "lcp"
   ]
  },
  {
   "cell_type": "code",
   "execution_count": 71,
   "metadata": {},
   "outputs": [
    {
     "data": {
      "text/plain": [
       "['sampleLoading',\n",
       " 'desalting',\n",
       " 'reEquilibrationPreColumn',\n",
       " 'reEquilibrationAnalyticalColumn']"
      ]
     },
     "execution_count": 71,
     "metadata": {},
     "output_type": "execute_result"
    }
   ],
   "source": [
    "prefixes = [key[:-4] for key in lcp if 'Flow' in key]\n",
    "prefixes"
   ]
  },
  {
   "cell_type": "code",
   "execution_count": 111,
   "metadata": {},
   "outputs": [
    {
     "data": {
      "text/html": [
       "<div>\n",
       "<style scoped>\n",
       "    .dataframe tbody tr th:only-of-type {\n",
       "        vertical-align: middle;\n",
       "    }\n",
       "\n",
       "    .dataframe tbody tr th {\n",
       "        vertical-align: top;\n",
       "    }\n",
       "\n",
       "    .dataframe thead th {\n",
       "        text-align: right;\n",
       "    }\n",
       "</style>\n",
       "<table border=\"1\" class=\"dataframe\">\n",
       "  <thead>\n",
       "    <tr style=\"text-align: right;\">\n",
       "      <th></th>\n",
       "      <th>Flow</th>\n",
       "      <th>MaxPressure</th>\n",
       "      <th>Volume</th>\n",
       "    </tr>\n",
       "    <tr>\n",
       "      <th>step</th>\n",
       "      <th></th>\n",
       "      <th></th>\n",
       "      <th></th>\n",
       "    </tr>\n",
       "  </thead>\n",
       "  <tbody>\n",
       "    <tr>\n",
       "      <th>sampleLoading</th>\n",
       "      <td>10</td>\n",
       "      <td></td>\n",
       "      <td>2.5</td>\n",
       "    </tr>\n",
       "    <tr>\n",
       "      <th>desalting</th>\n",
       "      <td></td>\n",
       "      <td>950</td>\n",
       "      <td>5.0</td>\n",
       "    </tr>\n",
       "    <tr>\n",
       "      <th>reEquilibrationPreColumn</th>\n",
       "      <td></td>\n",
       "      <td></td>\n",
       "      <td>0.0</td>\n",
       "    </tr>\n",
       "    <tr>\n",
       "      <th>reEquilibrationAnalyticalColumn</th>\n",
       "      <td></td>\n",
       "      <td>950</td>\n",
       "      <td>4.0</td>\n",
       "    </tr>\n",
       "  </tbody>\n",
       "</table>\n",
       "</div>"
      ],
      "text/plain": [
       "                                Flow MaxPressure  Volume\n",
       "step                                                    \n",
       "sampleLoading                     10                 2.5\n",
       "desalting                                    950     5.0\n",
       "reEquilibrationPreColumn                             0.0\n",
       "reEquilibrationAnalyticalColumn              950     4.0"
      ]
     },
     "execution_count": 111,
     "metadata": {},
     "output_type": "execute_result"
    }
   ],
   "source": [
    "data = []\n",
    "for prefix in prefixes:\n",
    "    dd = {'step': prefix}\n",
    "    for value in ['Volume', 'Flow', 'MaxPressure']:\n",
    "        try:\n",
    "            dd[value] = lcp[prefix + value]\n",
    "        except KeyError:\n",
    "            pass\n",
    "    data.append(dd)\n",
    "\n",
    "df = pd.DataFrame(data)\n",
    "df.set_index('step', inplace=True, )\n",
    "df.replace('Not set', np.nan, inplace=True)\n",
    "df = df.astype(float)\n",
    "df.fillna('', inplace=True)\n",
    "\n",
    "df"
   ]
  },
  {
   "cell_type": "markdown",
   "metadata": {},
   "source": [
    "## Make Table for Wash Cycles"
   ]
  },
  {
   "cell_type": "code",
   "execution_count": 88,
   "metadata": {},
   "outputs": [
    {
     "data": {
      "text/html": [
       "<div>\n",
       "<style scoped>\n",
       "    .dataframe tbody tr th:only-of-type {\n",
       "        vertical-align: middle;\n",
       "    }\n",
       "\n",
       "    .dataframe tbody tr th {\n",
       "        vertical-align: top;\n",
       "    }\n",
       "\n",
       "    .dataframe thead th {\n",
       "        text-align: right;\n",
       "    }\n",
       "</style>\n",
       "<table border=\"1\" class=\"dataframe\">\n",
       "  <thead>\n",
       "    <tr style=\"text-align: right;\">\n",
       "      <th></th>\n",
       "      <th>source</th>\n",
       "      <th>volume</th>\n",
       "      <th>cycles</th>\n",
       "    </tr>\n",
       "    <tr>\n",
       "      <th>order</th>\n",
       "      <th></th>\n",
       "      <th></th>\n",
       "      <th></th>\n",
       "    </tr>\n",
       "  </thead>\n",
       "  <tbody>\n",
       "    <tr>\n",
       "      <th>0</th>\n",
       "      <td>1</td>\n",
       "      <td>20</td>\n",
       "      <td>2</td>\n",
       "    </tr>\n",
       "    <tr>\n",
       "      <th>1</th>\n",
       "      <td>3</td>\n",
       "      <td>20</td>\n",
       "      <td>2</td>\n",
       "    </tr>\n",
       "  </tbody>\n",
       "</table>\n",
       "</div>"
      ],
      "text/plain": [
       "      source volume cycles\n",
       "order                     \n",
       "0          1     20      2\n",
       "1          3     20      2"
      ]
     },
     "execution_count": 88,
     "metadata": {},
     "output_type": "execute_result"
    }
   ],
   "source": [
    "df = pd.DataFrame(lc['washcycles']['methodwashcycle'])\n",
    "df.set_index('order', inplace=True)\n",
    "df"
   ]
  },
  {
   "cell_type": "code",
   "execution_count": null,
   "metadata": {},
   "outputs": [],
   "source": []
  }
 ],
 "metadata": {
  "kernelspec": {
   "display_name": "Python 3",
   "language": "python",
   "name": "python3"
  },
  "language_info": {
   "codemirror_mode": {
    "name": "ipython",
    "version": 3
   },
   "file_extension": ".py",
   "mimetype": "text/x-python",
   "name": "python",
   "nbconvert_exporter": "python",
   "pygments_lexer": "ipython3",
   "version": "3.7.0"
  }
 },
 "nbformat": 4,
 "nbformat_minor": 2
}
